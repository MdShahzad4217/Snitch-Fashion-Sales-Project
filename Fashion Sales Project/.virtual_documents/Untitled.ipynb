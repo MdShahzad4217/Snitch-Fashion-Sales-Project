import pandas as pd
import numpy as np
import seaborn as sns
import matplotlib.pyplot as plt


df = pd.read_csv("Snitch Fashion Sales.csv")
print(df.head())
print(df.info())
print(df.isnull().sum())


df['Order_Date'] = pd.to_datetime(df['Order_Date'], errors='coerce')
df['City'] = df['City'].str.strip().str.title().replace({
    'Hyd':'Hyderabad','Hyderbad':'Hyderabad','Bengaluru':'Bangalore','hyd':'Hyderabad','bengaluru':'Bangalore','Pune':'Pune'
})







df['Sales_Amount'] = np.where(
    df['Sales_Amount'].isna(),
    df['Units_Sold'] * df['Unit_Price'] * (1 - df['Discount_%'].fillna(0)),
    df['Sales_Amount']
)





print(df.groupby('Product_Category')['Sales_Amount'].sum().sort_values(ascending=False))



# Month-wise sales
df['Month'] = df['Order_Date'].dt.to_period('M')
print(df.groupby('Month')['Sales_Amount'].sum())

# Segment-wise profit
print(df.groupby('Segment')['Profit'].sum())


Product_Category = df.groupby('Product_Category')['Sales_Amount'].sum().sort_values(ascending=False).reset_index()


# City-wise sales
city_sales = df.groupby('City')['Sales_Amount'].sum().sort_values(ascending=False)
plt.figure(figsize=(10,5))
sns.barplot(x=city_sales.index, y=city_sales.values)
plt.xticks(rotation=45)
plt.title("City-wise Sales")
plt.show()



# Monthly Sales Trend
monthly_sales = df.groupby('Month')['Sales_Amount'].sum()
monthly_sales.plot(kind='line', marker='o', figsize=(10,5))
plt.title("Monthly Sales Trend")
plt.show()


plt.figure(figsize=(10,5))
sns.barplot(x='Sales_Amount', y='Product_Category', data=Product_Category)
plt.title("Top Selling Product Categories")
plt.xlabel("Total Sales Amount")
plt.ylabel("Product Category")
plt.tight_layout()
plt.show()


plt.figure(figsize=(8,5))
sns.boxplot(x='Segment', y='Profit', data=df)
plt.title("Profit Distribution by Segment (B2B/B2C)")
plt.xlabel("Segment")
plt.ylabel("Profit")
plt.tight_layout()


numeric_cols = df.select_dtypes(include=['float', 'int']).dropna()
corr = numeric_cols.corr()
plt.figure(figsize=(10,8))
sns.heatmap(corr, annot=True, cmap='viridis', fmt='.2f')
plt.title("Correlation Heatmap")
plt.tight_layout()
plt.show()



